{
 "cells": [
  {
   "cell_type": "code",
   "execution_count": null,
   "id": "a948139b-5561-4ef5-8662-873fc753a5e8",
   "metadata": {},
   "outputs": [],
   "source": [
    "import pandas as pd\n",
    "\n",
    "data = pd.read_csv('googleplaystore_user_reviews.csv')\n",
    "\n",
    "data.head()"
   ]
  },
  {
   "cell_type": "markdown",
   "id": "382d50f2-3ecf-415e-bfcb-11faed3a9e8d",
   "metadata": {},
   "source": [
    "# EDA"
   ]
  },
  {
   "cell_type": "code",
   "execution_count": null,
   "id": "4fb88c03-e58b-4319-8981-06e241c275b2",
   "metadata": {},
   "outputs": [],
   "source": [
    "data.shape"
   ]
  },
  {
   "cell_type": "code",
   "execution_count": null,
   "id": "fec8e3b4-35e0-461e-a833-14648dc3a093",
   "metadata": {},
   "outputs": [],
   "source": [
    "data['Sentiment'].value_counts()"
   ]
  },
  {
   "cell_type": "code",
   "execution_count": null,
   "id": "ff6f3310-95da-4dcf-8d64-4142641ca4af",
   "metadata": {},
   "outputs": [],
   "source": [
    "data.describe()"
   ]
  },
  {
   "cell_type": "code",
   "execution_count": null,
   "id": "25b0e697-ea7c-4e14-b4b2-4bb8017ac424",
   "metadata": {},
   "outputs": [],
   "source": [
    "data.describe(include='all')"
   ]
  },
  {
   "cell_type": "code",
   "execution_count": null,
   "id": "81fff690-63bf-40f1-87fc-f7b2bfa46bc7",
   "metadata": {},
   "outputs": [],
   "source": [
    "data.info()"
   ]
  },
  {
   "cell_type": "code",
   "execution_count": null,
   "id": "074e3c71-19d5-45c8-a750-7dabf2961979",
   "metadata": {},
   "outputs": [],
   "source": [
    "data.isnull().sum()"
   ]
  },
  {
   "cell_type": "markdown",
   "id": "39b02933-4bed-41d2-aa6b-881e0caacbdf",
   "metadata": {},
   "source": [
    "# PREPROCESAMIENTO"
   ]
  },
  {
   "cell_type": "code",
   "execution_count": null,
   "id": "aeb2ca84-7b3c-4868-bb58-7ee00e505239",
   "metadata": {},
   "outputs": [],
   "source": [
    "# Eliminar todas las filas que tengan al menos un valor NaN\n",
    "data = data.dropna()\n",
    "\n",
    "data.isnull().sum()"
   ]
  },
  {
   "cell_type": "code",
   "execution_count": null,
   "id": "28722b51-9c69-4a38-96bc-e24826c5a071",
   "metadata": {},
   "outputs": [],
   "source": [
    "data.shape"
   ]
  },
  {
   "cell_type": "code",
   "execution_count": null,
   "id": "fd004ca2-92f8-46cf-ab49-53bb70aba44b",
   "metadata": {},
   "outputs": [],
   "source": [
    "data = data[['Translated_Review', 'Sentiment']]\n",
    "data.head()"
   ]
  },
  {
   "cell_type": "code",
   "execution_count": null,
   "id": "1eb819b5-86c2-4d23-be77-c84f8fa14089",
   "metadata": {},
   "outputs": [],
   "source": [
    "import re\n",
    "import nltk\n",
    "from nltk.corpus import stopwords\n",
    "nltk.download('stopwords')\n",
    "\n",
    "stop_words = set(stopwords.words('english'))\n",
    "\n",
    "def clean_text(text):\n",
    "    text = text.lower()                                  # minúsculas\n",
    "    text = re.sub(r'[^a-z\\s]', '', text)                 # eliminar signos, números, emojis\n",
    "    text = ' '.join([w for w in text.split() if w not in stop_words])  # eliminar stopwords\n",
    "    return text\n",
    "\n",
    "data['clean_review'] = data['Translated_Review'].apply(clean_text)\n"
   ]
  },
  {
   "cell_type": "code",
   "execution_count": null,
   "id": "3d12c4f2-ff3c-4a7d-bdad-f060f6e14f20",
   "metadata": {},
   "outputs": [],
   "source": [
    "from sklearn.preprocessing import LabelEncoder\n",
    "\n",
    "encoder = LabelEncoder()\n",
    "data['Sentiment_encoded'] = encoder.fit_transform(data['Sentiment'])\n",
    "\n",
    "print(encoder.classes_)   # ['Negative', 'Neutral', 'Positive']\n"
   ]
  },
  {
   "cell_type": "markdown",
   "id": "2b4a5cd8-8a1b-4e43-941b-b3c5b1d836a1",
   "metadata": {},
   "source": [
    "# VECTORIZAR"
   ]
  },
  {
   "cell_type": "code",
   "execution_count": null,
   "id": "10e73e7b-9def-475d-8c4f-fe0c550333ae",
   "metadata": {},
   "outputs": [],
   "source": [
    "from sklearn.feature_extraction.text import TfidfVectorizer\n",
    "\n",
    "vectorizer = TfidfVectorizer(max_features=5000)\n",
    "X = vectorizer.fit_transform(data['clean_review'])\n",
    "y = data['Sentiment_encoded']\n"
   ]
  },
  {
   "cell_type": "markdown",
   "id": "ba0d6823-1dca-4fc3-976f-6babab1c436a",
   "metadata": {},
   "source": [
    "# ENTRENAR"
   ]
  },
  {
   "cell_type": "code",
   "execution_count": null,
   "id": "43114e91-2d17-41ba-b03d-324296206551",
   "metadata": {},
   "outputs": [],
   "source": [
    "from sklearn.model_selection import train_test_split\n",
    "from sklearn.linear_model import LogisticRegression\n",
    "from sklearn.metrics import classification_report, confusion_matrix\n",
    "\n",
    "X_train, X_test, y_train, y_test = train_test_split(X, y, test_size=0.2, random_state=42)\n",
    "\n",
    "model = LogisticRegression(max_iter=1000)\n",
    "model.fit(X_train, y_train)\n",
    "\n",
    "y_pred = model.predict(X_test)\n",
    "\n",
    "print(classification_report(y_test, y_pred))\n"
   ]
  },
  {
   "cell_type": "code",
   "execution_count": null,
   "id": "84695cc6-1754-4663-98d3-e2a27c5eaba8",
   "metadata": {},
   "outputs": [],
   "source": [
    "import joblib\n",
    "\n",
    "# Guardar el modelo\n",
    "joblib.dump(model, \"modelo_sentimientos.pkl\")\n",
    "\n",
    "# guardar el vectorizador TF-IDF\n",
    "joblib.dump(vectorizer, \"vectorizer_tfidf.pkl\")"
   ]
  },
  {
   "cell_type": "code",
   "execution_count": null,
   "id": "7e2bb347-585a-431f-aec9-33f4b850debb",
   "metadata": {},
   "outputs": [],
   "source": []
  },
  {
   "cell_type": "code",
   "execution_count": null,
   "id": "ddc61573-65f4-406a-85eb-3656fe0e3989",
   "metadata": {},
   "outputs": [],
   "source": []
  },
  {
   "cell_type": "code",
   "execution_count": null,
   "id": "45adc578-68ba-4e9d-a4dc-27ec115d56a8",
   "metadata": {},
   "outputs": [],
   "source": []
  },
  {
   "cell_type": "code",
   "execution_count": null,
   "id": "8a00fb97-577a-4c8a-bbc4-cc6943e4a21c",
   "metadata": {},
   "outputs": [],
   "source": []
  },
  {
   "cell_type": "code",
   "execution_count": null,
   "id": "e9938d60-86fe-4c98-b3dc-63ecf233a2a4",
   "metadata": {},
   "outputs": [],
   "source": []
  },
  {
   "cell_type": "code",
   "execution_count": null,
   "id": "03b51c58-3a45-4684-9c25-77d315c774b7",
   "metadata": {},
   "outputs": [],
   "source": []
  }
 ],
 "metadata": {
  "kernelspec": {
   "display_name": "Python 3 (ipykernel)",
   "language": "python",
   "name": "python3"
  },
  "language_info": {
   "codemirror_mode": {
    "name": "ipython",
    "version": 3
   },
   "file_extension": ".py",
   "mimetype": "text/x-python",
   "name": "python",
   "nbconvert_exporter": "python",
   "pygments_lexer": "ipython3",
   "version": "3.11.13"
  }
 },
 "nbformat": 4,
 "nbformat_minor": 5
}
