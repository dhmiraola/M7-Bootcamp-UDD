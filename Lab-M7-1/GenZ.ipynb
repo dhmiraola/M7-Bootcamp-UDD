{
 "cells": [
  {
   "cell_type": "code",
   "execution_count": null,
   "id": "b8d0659e-42a8-4cc3-93b2-461071ddc950",
   "metadata": {},
   "outputs": [],
   "source": [
    "import pandas as pd\n",
    "\n",
    "data = pd.read_csv('genz.csv')"
   ]
  },
  {
   "cell_type": "markdown",
   "id": "382d50f2-3ecf-415e-bfcb-11faed3a9e8d",
   "metadata": {},
   "source": [
    "# EDA"
   ]
  },
  {
   "cell_type": "code",
   "execution_count": null,
   "id": "27c612df-49e3-4880-bb4b-56f975bbd879",
   "metadata": {},
   "outputs": [],
   "source": [
    "data.head()"
   ]
  },
  {
   "cell_type": "code",
   "execution_count": null,
   "id": "4fb88c03-e58b-4319-8981-06e241c275b2",
   "metadata": {},
   "outputs": [],
   "source": [
    "data.shape"
   ]
  },
  {
   "cell_type": "code",
   "execution_count": null,
   "id": "ff6f3310-95da-4dcf-8d64-4142641ca4af",
   "metadata": {},
   "outputs": [],
   "source": [
    "data.describe()"
   ]
  },
  {
   "cell_type": "code",
   "execution_count": null,
   "id": "25b0e697-ea7c-4e14-b4b2-4bb8017ac424",
   "metadata": {},
   "outputs": [],
   "source": [
    "data.describe(include='all')"
   ]
  },
  {
   "cell_type": "code",
   "execution_count": null,
   "id": "81fff690-63bf-40f1-87fc-f7b2bfa46bc7",
   "metadata": {},
   "outputs": [],
   "source": [
    "data.info()"
   ]
  },
  {
   "cell_type": "code",
   "execution_count": null,
   "id": "074e3c71-19d5-45c8-a750-7dabf2961979",
   "metadata": {},
   "outputs": [],
   "source": [
    "data.isnull().sum()"
   ]
  },
  {
   "cell_type": "code",
   "execution_count": null,
   "id": "b8f25954-caee-4eff-a005-bc2d4b232625",
   "metadata": {},
   "outputs": [],
   "source": [
    "data['How likely would you work for a company whose mission is misaligned with their public actions or even their product ?'].value_counts()"
   ]
  },
  {
   "cell_type": "code",
   "execution_count": null,
   "id": "166a814b-5617-4c69-acda-61f69da758d0",
   "metadata": {},
   "outputs": [],
   "source": [
    "data['Would you definitely pursue a Higher Education / Post Graduation outside of India ? If only you have to self sponsor it.'].value_counts()"
   ]
  },
  {
   "cell_type": "markdown",
   "id": "39b02933-4bed-41d2-aa6b-881e0caacbdf",
   "metadata": {},
   "source": [
    "# PREPROCESAMIENTO"
   ]
  },
  {
   "cell_type": "code",
   "execution_count": null,
   "id": "30b66f13-d287-4b78-a181-a6db386a8ecc",
   "metadata": {},
   "outputs": [],
   "source": [
    "from sklearn.preprocessing import LabelEncoder\n",
    "\n",
    "le = LabelEncoder()\n",
    "for col in data.columns:\n",
    "    if data[col].dtype == 'object':\n",
    "        data[col] = le.fit_transform(data[col].astype(str))\n"
   ]
  },
  {
   "cell_type": "code",
   "execution_count": null,
   "id": "240c4181-48b4-4786-80d5-04fded3df678",
   "metadata": {},
   "outputs": [],
   "source": [
    "data.info()"
   ]
  },
  {
   "cell_type": "markdown",
   "id": "ba0d6823-1dca-4fc3-976f-6babab1c436a",
   "metadata": {},
   "source": [
    "# ENTRENAR"
   ]
  },
  {
   "cell_type": "code",
   "execution_count": null,
   "id": "98012f55-7e60-48bd-9cce-5d2a38a2d213",
   "metadata": {},
   "outputs": [],
   "source": [
    "data['Would you definitely pursue a Higher Education / Post Graduation outside of India ? If only you have to self sponsor it.'].value_counts()"
   ]
  },
  {
   "cell_type": "code",
   "execution_count": null,
   "id": "6ce0e06a-50fc-42e3-8de3-9b8a32bf7efb",
   "metadata": {},
   "outputs": [],
   "source": [
    "# Separar variables\n",
    "X = data.drop(columns=['Would you definitely pursue a Higher Education / Post Graduation outside of India ? If only you have to self sponsor it.'])\n",
    "y = data['Would you definitely pursue a Higher Education / Post Graduation outside of India ? If only you have to self sponsor it.']"
   ]
  },
  {
   "cell_type": "code",
   "execution_count": null,
   "id": "7e2aee55-66b8-47ca-82d6-e9b3cb83d168",
   "metadata": {},
   "outputs": [],
   "source": [
    "from sklearn.model_selection import train_test_split\n",
    "\n",
    "\n",
    "X_train, X_test, y_train, y_test = train_test_split(X, y, test_size=0.2, random_state=42)"
   ]
  },
  {
   "cell_type": "code",
   "execution_count": null,
   "id": "7e2bb347-585a-431f-aec9-33f4b850debb",
   "metadata": {},
   "outputs": [],
   "source": [
    "from sklearn.tree import DecisionTreeClassifier\n",
    "\n",
    "# Entrenar modelo\n",
    "model = DecisionTreeClassifier(random_state=42)\n",
    "model.fit(X_train, y_train)"
   ]
  },
  {
   "cell_type": "code",
   "execution_count": null,
   "id": "ddc61573-65f4-406a-85eb-3656fe0e3989",
   "metadata": {},
   "outputs": [],
   "source": [
    "# Predicciones\n",
    "y_pred = model.predict(X_test)\n",
    "y_pred"
   ]
  },
  {
   "cell_type": "code",
   "execution_count": null,
   "id": "45adc578-68ba-4e9d-a4dc-27ec115d56a8",
   "metadata": {},
   "outputs": [],
   "source": [
    "from sklearn.metrics import classification_report, confusion_matrix\n",
    "\n",
    "# Métricas\n",
    "print(classification_report(y_test, y_pred))"
   ]
  },
  {
   "cell_type": "code",
   "execution_count": null,
   "id": "8a00fb97-577a-4c8a-bbc4-cc6943e4a21c",
   "metadata": {},
   "outputs": [],
   "source": [
    "import seaborn as sns\n",
    "import matplotlib.pyplot as plt\n",
    "\n",
    "# Matriz de confusión\n",
    "cm = confusion_matrix(y_test, y_pred)\n",
    "sns.heatmap(cm, annot=True, fmt='d', cmap='Blues')\n",
    "plt.xlabel(\"Predicción\")\n",
    "plt.ylabel(\"Real\")\n",
    "plt.title(\"Matriz de Confusión - Higher Education Decision\")\n",
    "plt.show()"
   ]
  },
  {
   "cell_type": "code",
   "execution_count": null,
   "id": "e9938d60-86fe-4c98-b3dc-63ecf233a2a4",
   "metadata": {},
   "outputs": [],
   "source": []
  },
  {
   "cell_type": "code",
   "execution_count": null,
   "id": "03b51c58-3a45-4684-9c25-77d315c774b7",
   "metadata": {},
   "outputs": [],
   "source": []
  }
 ],
 "metadata": {
  "kernelspec": {
   "display_name": "Python 3 (ipykernel)",
   "language": "python",
   "name": "python3"
  },
  "language_info": {
   "codemirror_mode": {
    "name": "ipython",
    "version": 3
   },
   "file_extension": ".py",
   "mimetype": "text/x-python",
   "name": "python",
   "nbconvert_exporter": "python",
   "pygments_lexer": "ipython3",
   "version": "3.11.13"
  }
 },
 "nbformat": 4,
 "nbformat_minor": 5
}
