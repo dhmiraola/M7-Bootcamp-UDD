{
 "cells": [
  {
   "cell_type": "markdown",
   "id": "923b6901",
   "metadata": {},
   "source": [
    "## Clase 1: Algoritmos de Regresion con GridSearchCV\n",
    "#### Profesor: Diego Miranda Olavarría\n",
    "#### Data Scientist"
   ]
  },
  {
   "cell_type": "code",
   "execution_count": 1,
   "id": "e786e799",
   "metadata": {},
   "outputs": [
    {
     "data": {
      "text/html": [
       "<div>\n",
       "<style scoped>\n",
       "    .dataframe tbody tr th:only-of-type {\n",
       "        vertical-align: middle;\n",
       "    }\n",
       "\n",
       "    .dataframe tbody tr th {\n",
       "        vertical-align: top;\n",
       "    }\n",
       "\n",
       "    .dataframe thead th {\n",
       "        text-align: right;\n",
       "    }\n",
       "</style>\n",
       "<table border=\"1\" class=\"dataframe\">\n",
       "  <thead>\n",
       "    <tr style=\"text-align: right;\">\n",
       "      <th></th>\n",
       "      <th>crim</th>\n",
       "      <th>zn</th>\n",
       "      <th>indus</th>\n",
       "      <th>chas</th>\n",
       "      <th>nox</th>\n",
       "      <th>rm</th>\n",
       "      <th>age</th>\n",
       "      <th>dis</th>\n",
       "      <th>rad</th>\n",
       "      <th>tax</th>\n",
       "      <th>ptratio</th>\n",
       "      <th>black</th>\n",
       "      <th>lstat</th>\n",
       "      <th>medv</th>\n",
       "    </tr>\n",
       "  </thead>\n",
       "  <tbody>\n",
       "    <tr>\n",
       "      <th>0</th>\n",
       "      <td>0.00632</td>\n",
       "      <td>18.0</td>\n",
       "      <td>2.31</td>\n",
       "      <td>0</td>\n",
       "      <td>0.538</td>\n",
       "      <td>6.575</td>\n",
       "      <td>65.2</td>\n",
       "      <td>4.0900</td>\n",
       "      <td>1</td>\n",
       "      <td>296</td>\n",
       "      <td>15.3</td>\n",
       "      <td>396.90</td>\n",
       "      <td>4.98</td>\n",
       "      <td>24.0</td>\n",
       "    </tr>\n",
       "    <tr>\n",
       "      <th>1</th>\n",
       "      <td>0.02731</td>\n",
       "      <td>0.0</td>\n",
       "      <td>7.07</td>\n",
       "      <td>0</td>\n",
       "      <td>0.469</td>\n",
       "      <td>6.421</td>\n",
       "      <td>78.9</td>\n",
       "      <td>4.9671</td>\n",
       "      <td>2</td>\n",
       "      <td>242</td>\n",
       "      <td>17.8</td>\n",
       "      <td>396.90</td>\n",
       "      <td>9.14</td>\n",
       "      <td>21.6</td>\n",
       "    </tr>\n",
       "    <tr>\n",
       "      <th>2</th>\n",
       "      <td>0.02729</td>\n",
       "      <td>0.0</td>\n",
       "      <td>7.07</td>\n",
       "      <td>0</td>\n",
       "      <td>0.469</td>\n",
       "      <td>7.185</td>\n",
       "      <td>61.1</td>\n",
       "      <td>4.9671</td>\n",
       "      <td>2</td>\n",
       "      <td>242</td>\n",
       "      <td>17.8</td>\n",
       "      <td>392.83</td>\n",
       "      <td>4.03</td>\n",
       "      <td>34.7</td>\n",
       "    </tr>\n",
       "    <tr>\n",
       "      <th>3</th>\n",
       "      <td>0.03237</td>\n",
       "      <td>0.0</td>\n",
       "      <td>2.18</td>\n",
       "      <td>0</td>\n",
       "      <td>0.458</td>\n",
       "      <td>6.998</td>\n",
       "      <td>45.8</td>\n",
       "      <td>6.0622</td>\n",
       "      <td>3</td>\n",
       "      <td>222</td>\n",
       "      <td>18.7</td>\n",
       "      <td>394.63</td>\n",
       "      <td>2.94</td>\n",
       "      <td>33.4</td>\n",
       "    </tr>\n",
       "    <tr>\n",
       "      <th>4</th>\n",
       "      <td>0.06905</td>\n",
       "      <td>0.0</td>\n",
       "      <td>2.18</td>\n",
       "      <td>0</td>\n",
       "      <td>0.458</td>\n",
       "      <td>7.147</td>\n",
       "      <td>54.2</td>\n",
       "      <td>6.0622</td>\n",
       "      <td>3</td>\n",
       "      <td>222</td>\n",
       "      <td>18.7</td>\n",
       "      <td>396.90</td>\n",
       "      <td>5.33</td>\n",
       "      <td>36.2</td>\n",
       "    </tr>\n",
       "  </tbody>\n",
       "</table>\n",
       "</div>"
      ],
      "text/plain": [
       "      crim    zn  indus  chas    nox     rm   age     dis  rad  tax  ptratio  \\\n",
       "0  0.00632  18.0   2.31     0  0.538  6.575  65.2  4.0900    1  296     15.3   \n",
       "1  0.02731   0.0   7.07     0  0.469  6.421  78.9  4.9671    2  242     17.8   \n",
       "2  0.02729   0.0   7.07     0  0.469  7.185  61.1  4.9671    2  242     17.8   \n",
       "3  0.03237   0.0   2.18     0  0.458  6.998  45.8  6.0622    3  222     18.7   \n",
       "4  0.06905   0.0   2.18     0  0.458  7.147  54.2  6.0622    3  222     18.7   \n",
       "\n",
       "    black  lstat  medv  \n",
       "0  396.90   4.98  24.0  \n",
       "1  396.90   9.14  21.6  \n",
       "2  392.83   4.03  34.7  \n",
       "3  394.63   2.94  33.4  \n",
       "4  396.90   5.33  36.2  "
      ]
     },
     "execution_count": 1,
     "metadata": {},
     "output_type": "execute_result"
    }
   ],
   "source": [
    "import pandas as pd \n",
    "from sklearn.model_selection import GridSearchCV\n",
    "\n",
    "data = pd.read_csv('Boston.csv')\n",
    "\n",
    "data.head()"
   ]
  },
  {
   "cell_type": "code",
   "execution_count": 2,
   "id": "ec413e09",
   "metadata": {},
   "outputs": [
    {
     "data": {
      "text/plain": [
       "(506, 14)"
      ]
     },
     "execution_count": 2,
     "metadata": {},
     "output_type": "execute_result"
    }
   ],
   "source": [
    "data.shape"
   ]
  },
  {
   "cell_type": "code",
   "execution_count": 3,
   "id": "c41b079d",
   "metadata": {},
   "outputs": [],
   "source": [
    "X = data.drop('medv', axis=1)\n",
    "y = data['medv']"
   ]
  },
  {
   "cell_type": "code",
   "execution_count": 4,
   "id": "84f74297",
   "metadata": {},
   "outputs": [],
   "source": [
    "from sklearn.model_selection import train_test_split\n",
    "\n",
    "X_train, X_test, y_train, y_test = train_test_split(X,y, train_size=0.8, random_state=42)"
   ]
  },
  {
   "cell_type": "markdown",
   "id": "36a49f96",
   "metadata": {},
   "source": [
    "## Arbol de Decision"
   ]
  },
  {
   "cell_type": "code",
   "execution_count": 5,
   "id": "c8e970f6",
   "metadata": {},
   "outputs": [
    {
     "name": "stdout",
     "output_type": "stream",
     "text": [
      "Fitting 5 folds for each of 50 candidates, totalling 250 fits\n",
      "Mejores parámetros encontrados: {'criterion': 'poisson', 'max_depth': 7, 'min_samples_leaf': 2, 'min_samples_split': 6, 'splitter': 'best'}\n"
     ]
    }
   ],
   "source": [
    "from sklearn.tree import DecisionTreeRegressor\n",
    "from sklearn.model_selection import RandomizedSearchCV\n",
    "from scipy.stats import randint\n",
    "\n",
    "# Definimos el modelo base\n",
    "dt_reg = DecisionTreeRegressor()\n",
    "\n",
    "# Diccionario con los hiperparámetros y sus valores o distribuciones para RandomizedSearchCV\n",
    "param_dist = {\n",
    "    # Función para medir la calidad de las divisiones:\n",
    "    # - 'squared_error': error cuadrático medio (MSE), común para regresión\n",
    "    # - 'friedman_mse': variante del MSE, útil en boosting\n",
    "    # - 'absolute_error': error absoluto (MAE), más robusto a outliers\n",
    "    # - 'poisson': útil en problemas de conteo\n",
    "    'criterion': ['squared_error', 'friedman_mse', 'absolute_error', 'poisson'],\n",
    "    \n",
    "    # Estrategia para dividir nodos:\n",
    "    # - 'best': elige la mejor división posible (por defecto)\n",
    "    # - 'random': elige aleatoriamente entre las mejores divisiones (útil en ensambles)\n",
    "    'splitter': ['best', 'random'],\n",
    "    \n",
    "    # Profundidad máxima del árbol:\n",
    "    # - None: crece hasta que no puede dividir más\n",
    "    # - Valores enteros limitan la profundidad para evitar sobreajuste\n",
    "    'max_depth': [None] + list(range(3, 20)),\n",
    "    \n",
    "    # Mínimo número de muestras para dividir un nodo interno:\n",
    "    # - Valores mayores reducen el crecimiento del árbol y evitan sobreajuste\n",
    "    'min_samples_split': randint(2, 11),  # distribuciones aleatorias\n",
    "    \n",
    "    # Mínimo número de muestras que debe tener un nodo hoja:\n",
    "    # - Evita hojas con muy pocos datos\n",
    "    'min_samples_leaf': randint(1, 6)\n",
    "}\n",
    "\n",
    "# Búsqueda aleatoria sobre las combinaciones de parámetros\n",
    "random_search = RandomizedSearchCV(\n",
    "    estimator=dt_reg,                     # Modelo base\n",
    "    param_distributions=param_dist,      # Diccionario de parámetros\n",
    "    n_iter=50,                            # Número de combinaciones aleatorias a probar\n",
    "    scoring='neg_mean_squared_error',    # Métrica de evaluación (MSE negativo)\n",
    "    cv=5,                                 # Validación cruzada con 5 particiones\n",
    "    verbose=1,                            # Nivel de detalle en la salida\n",
    "    random_state=42,                      # Semilla para reproducibilidad\n",
    "    n_jobs=-1                             # Usa todos los núcleos del procesador\n",
    ")\n",
    "\n",
    "# Entrenamos el modelo usando RandomizedSearchCV\n",
    "random_search.fit(X_train, y_train)\n",
    "\n",
    "# Extraemos el mejor modelo encontrado\n",
    "best_dt_model = random_search.best_estimator_\n",
    "\n",
    "# Mostramos los mejores hiperparámetros encontrados\n",
    "print(\"Mejores parámetros encontrados:\", random_search.best_params_)\n"
   ]
  },
  {
   "cell_type": "code",
   "execution_count": 6,
   "id": "b1ab516c",
   "metadata": {},
   "outputs": [
    {
     "data": {
      "text/plain": [
       "array([24.02424242, 33.175     , 17.63684211, 24.02424242, 15.88095238,\n",
       "       21.39622642, 17.63684211, 13.85      , 21.39622642, 21.39622642,\n",
       "       17.63684211, 26.5       ,  7.27      , 21.39622642, 21.39622642,\n",
       "       21.39622642, 20.95      ,  8.7375    , 42.32      , 15.88095238,\n",
       "       24.02424242, 24.02424242, 13.84      , 24.73333333, 15.88095238,\n",
       "       15.88095238, 20.21333333, 11.125     , 17.63684211, 21.39622642,\n",
       "       17.63684211, 24.02424242, 21.39622642, 21.39622642, 15.1       ,\n",
       "       15.88095238, 34.89090909, 20.21333333, 22.1       , 24.02424242,\n",
       "       21.56666667, 29.275     , 42.32      , 19.75      , 21.91666667,\n",
       "       15.88095238, 15.88095238, 24.02424242, 15.88095238, 33.175     ,\n",
       "       21.39622642, 34.89090909, 15.88095238, 29.275     , 47.09      ,\n",
       "       21.39622642, 15.88095238, 26.325     , 21.91666667, 22.1       ,\n",
       "       24.225     , 34.89090909, 30.35      , 19.75      , 26.325     ,\n",
       "       13.84      , 15.88095238, 21.91666667, 26.325     , 14.        ,\n",
       "       19.75      , 50.        ,  8.7375    , 20.21333333, 21.39622642,\n",
       "        7.27      , 21.39622642, 47.09      , 11.76666667, 10.7       ,\n",
       "       20.21333333, 15.1       , 15.65      ,  8.7375    , 19.75      ,\n",
       "       29.275     , 15.88095238, 24.02424242, 21.91666667, 17.63684211,\n",
       "       21.39622642,  7.27      , 19.75      , 19.75      , 20.21333333,\n",
       "       19.75      , 50.        , 21.9       , 11.125     , 21.9       ,\n",
       "       19.75      , 24.02424242])"
      ]
     },
     "execution_count": 6,
     "metadata": {},
     "output_type": "execute_result"
    }
   ],
   "source": [
    "y_pred_dt = best_dt_model.predict(X_test)\n",
    "y_pred_dt"
   ]
  },
  {
   "cell_type": "markdown",
   "id": "5c15195c",
   "metadata": {},
   "source": [
    "## Random Forest"
   ]
  },
  {
   "cell_type": "code",
   "execution_count": 7,
   "id": "3ac62b97",
   "metadata": {},
   "outputs": [
    {
     "name": "stdout",
     "output_type": "stream",
     "text": [
      "Fitting 5 folds for each of 50 candidates, totalling 250 fits\n",
      "Mejores parámetros del Random Forest: {'bootstrap': True, 'max_depth': 12, 'min_samples_leaf': 2, 'min_samples_split': 5, 'n_estimators': 138}\n"
     ]
    }
   ],
   "source": [
    "from sklearn.ensemble import RandomForestRegressor\n",
    "from sklearn.model_selection import RandomizedSearchCV\n",
    "from scipy.stats import randint\n",
    "\n",
    "# Definimos el modelo base\n",
    "rf_reg = RandomForestRegressor()\n",
    "\n",
    "# Diccionario con los hiperparámetros a explorar aleatoriamente\n",
    "param_dist_rf = {\n",
    "    # Número de árboles en el bosque:\n",
    "    # Más árboles → más robusto, pero más lento\n",
    "    'n_estimators': randint(50, 201),  # valores entre 50 y 200\n",
    "\n",
    "    # Profundidad máxima de cada árbol:\n",
    "    # None → los nodos se expanden hasta que sean puros\n",
    "    'max_depth': [None] + list(range(5, 21)),\n",
    "\n",
    "    # Muestras mínimas para dividir un nodo:\n",
    "    # Controla la complejidad del modelo y previene overfitting\n",
    "    'min_samples_split': randint(2, 11),\n",
    "\n",
    "    # Muestras mínimas que debe tener una hoja:\n",
    "    # Ayuda a suavizar el modelo, útil contra el sobreajuste\n",
    "    'min_samples_leaf': randint(1, 6),\n",
    "\n",
    "    # Si se hace bootstrap (muestreo con reemplazo) al crear los árboles:\n",
    "    # True → típico random forest, False → todos los datos en cada árbol\n",
    "    'bootstrap': [True, False]\n",
    "}\n",
    "\n",
    "# Búsqueda aleatoria sobre las combinaciones de parámetros\n",
    "random_search_rf = RandomizedSearchCV(\n",
    "    estimator=rf_reg,                    # Modelo base\n",
    "    param_distributions=param_dist_rf,  # Diccionario de hiperparámetros\n",
    "    n_iter=50,                           # Número de combinaciones aleatorias a probar\n",
    "    scoring='neg_mean_squared_error',   # Métrica de evaluación (error cuadrático negativo)\n",
    "    cv=5,                                # Validación cruzada (5 folds)\n",
    "    verbose=1,                           # Detalle del proceso\n",
    "    random_state=42,                     # Semilla para reproducibilidad\n",
    "    n_jobs=-1                            # Usa todos los núcleos del procesador\n",
    ")\n",
    "\n",
    "# Ajustamos el modelo con los datos de entrenamiento\n",
    "random_search_rf.fit(X_train, y_train)\n",
    "\n",
    "# Extraemos el mejor modelo encontrado\n",
    "best_rf_model = random_search_rf.best_estimator_\n",
    "\n",
    "# Mostramos los mejores hiperparámetros encontrados\n",
    "print(\"Mejores parámetros del Random Forest:\", random_search_rf.best_params_)\n",
    "\n",
    "# Predicciones en el set de prueba usando el mejor modelo\n",
    "y_pred_rf = best_rf_model.predict(X_test)\n"
   ]
  },
  {
   "cell_type": "code",
   "execution_count": 8,
   "id": "29b52d9d",
   "metadata": {},
   "outputs": [
    {
     "data": {
      "text/plain": [
       "array([22.84221079, 31.14240712, 17.82291465, 23.36711422, 16.94933   ,\n",
       "       21.39586725, 19.62292156, 15.57835116, 21.19131801, 21.01749851,\n",
       "       20.43269697, 20.29098631,  8.21002293, 21.43644668, 19.52239945,\n",
       "       25.2688571 , 19.36375518,  8.60186874, 44.94262551, 15.02828991,\n",
       "       24.83442134, 23.87443248, 14.54265694, 24.05636216, 14.71866099,\n",
       "       14.81440045, 21.61653303, 14.0290249 , 19.75515758, 20.97372948,\n",
       "       19.74636128, 23.23657531, 29.44952959, 20.29474321, 14.45567507,\n",
       "       15.83063262, 34.05787727, 19.22071042, 20.75815668, 24.37746644,\n",
       "       18.70671814, 29.31390758, 45.12035803, 19.22407435, 22.61471226,\n",
       "       13.95341793, 15.2419039 , 24.671968  , 18.19980629, 28.20064892,\n",
       "       21.19422804, 33.94689182, 16.72207787, 26.13511277, 45.12401915,\n",
       "       22.00875891, 15.85945566, 32.27864915, 22.37214839, 20.32427824,\n",
       "       25.44286203, 34.45826202, 29.05536491, 18.96265142, 26.82211209,\n",
       "       16.83906808, 14.02560737, 23.11368167, 28.82748107, 15.05169657,\n",
       "       20.56848119, 27.12077695, 10.05478611, 21.60734702, 22.15453877,\n",
       "        7.11017167, 20.16370163, 46.07091531, 11.26180814, 14.28315941,\n",
       "       21.50836879, 12.55199265, 19.76738246,  9.3387121 , 20.62388735,\n",
       "       27.25533241, 15.11761157, 23.26979842, 23.54548506, 17.82028784,\n",
       "       21.8706761 ,  7.89943697, 19.85378791, 19.15831403, 23.19759398,\n",
       "       19.83572968, 36.71930707, 12.61136128, 12.5257043 , 13.84181159,\n",
       "       20.33299888, 23.97664792])"
      ]
     },
     "execution_count": 8,
     "metadata": {},
     "output_type": "execute_result"
    }
   ],
   "source": [
    "y_pred_rf"
   ]
  },
  {
   "cell_type": "markdown",
   "id": "8cb21825",
   "metadata": {},
   "source": [
    "## XGBoost"
   ]
  },
  {
   "cell_type": "code",
   "execution_count": 9,
   "id": "c3123e28",
   "metadata": {},
   "outputs": [
    {
     "name": "stdout",
     "output_type": "stream",
     "text": [
      "Fitting 2 folds for each of 10 candidates, totalling 20 fits\n",
      "✅ Mejores parámetros encontrados por XGBoost: {'colsample_bytree': np.float64(0.9949692657420364), 'gamma': np.float64(0.046676289324798), 'learning_rate': np.float64(0.1789910610104481), 'max_depth': 4, 'n_estimators': 50, 'subsample': np.float64(0.8351497755908628)}\n"
     ]
    },
    {
     "name": "stderr",
     "output_type": "stream",
     "text": [
      "C:\\Users\\Diego\\anaconda3\\envs\\gpu_env\\Lib\\site-packages\\xgboost\\core.py:729: UserWarning: [18:21:53] WARNING: C:\\actions-runner\\_work\\xgboost\\xgboost\\src\\common\\error_msg.cc:58: Falling back to prediction using DMatrix due to mismatched devices. This might lead to higher memory usage and slower performance. XGBoost is running on: cuda:0, while the input data is on: cpu.\n",
      "Potential solutions:\n",
      "- Use a data structure that matches the device ordinal in the booster.\n",
      "- Set the device for booster before call to inplace_predict.\n",
      "\n",
      "This warning will only be shown once.\n",
      "\n",
      "  return func(**kwargs)\n"
     ]
    }
   ],
   "source": [
    "import xgboost as xgb\n",
    "from sklearn.model_selection import RandomizedSearchCV\n",
    "from scipy.stats import uniform, randint\n",
    "\n",
    "# Modelo base con configuración moderna para GPU\n",
    "xgboost_reg = xgb.XGBRegressor(\n",
    "    tree_method='hist',       # GPU compatible si se usa junto con device='cuda'\n",
    "    device='cuda',            # NUEVA forma correcta de activar GPU\n",
    "    objective='reg:squarederror',\n",
    "    verbosity=1,\n",
    "    random_state=42\n",
    ")\n",
    "\n",
    "# Hiperparámetros reducidos para carga ligera\n",
    "param_dist_xgb = {\n",
    "    'n_estimators': randint(30, 60),\n",
    "    'max_depth': randint(2, 5),\n",
    "    'learning_rate': uniform(0.05, 0.15),\n",
    "    'subsample': uniform(0.7, 0.3),\n",
    "    'colsample_bytree': uniform(0.7, 0.3),\n",
    "    'gamma': uniform(0, 0.1)\n",
    "}\n",
    "\n",
    "# Randomized Search optimizado\n",
    "random_search_xgb = RandomizedSearchCV(\n",
    "    estimator=xgboost_reg,\n",
    "    param_distributions=param_dist_xgb,\n",
    "    n_iter=10,\n",
    "    scoring='neg_mean_squared_error',\n",
    "    cv=2,\n",
    "    verbose=1,\n",
    "    random_state=42,\n",
    "    n_jobs=-1\n",
    ")\n",
    "\n",
    "# Entrenamiento\n",
    "random_search_xgb.fit(X_train, y_train)\n",
    "\n",
    "# Mejor modelo y predicción\n",
    "best_xgb_model = random_search_xgb.best_estimator_\n",
    "y_pred_xgb = best_xgb_model.predict(X_test)\n",
    "\n",
    "# Mostrar los hiperparámetros óptimos\n",
    "print(\"✅ Mejores parámetros encontrados por XGBoost:\", random_search_xgb.best_params_)\n",
    "\n"
   ]
  },
  {
   "cell_type": "code",
   "execution_count": 10,
   "id": "69bad060",
   "metadata": {},
   "outputs": [
    {
     "data": {
      "text/plain": [
       "array([23.75428  , 31.404915 , 17.00668  , 25.215145 , 17.096333 ,\n",
       "       22.288374 , 18.340492 , 14.624627 , 20.877277 , 21.212221 ,\n",
       "       21.101797 , 19.149147 ,  7.855071 , 22.00376  , 19.355806 ,\n",
       "       24.317663 , 19.680204 ,  9.977827 , 45.904884 , 15.199898 ,\n",
       "       24.148703 , 25.47985  , 13.956404 , 21.289333 , 15.378546 ,\n",
       "       15.5821295, 22.174925 , 12.447767 , 19.703062 , 21.338741 ,\n",
       "       19.847214 , 23.701637 , 16.7394   , 20.942728 , 15.058172 ,\n",
       "       15.860579 , 37.211052 , 19.294956 , 21.300198 , 24.232397 ,\n",
       "       16.59843  , 29.353615 , 46.957542 , 19.17539  , 22.829472 ,\n",
       "       15.198711 , 16.237856 , 24.442816 , 18.795586 , 29.1932   ,\n",
       "       20.657019 , 35.00153  , 16.85     , 26.699173 , 46.776634 ,\n",
       "       22.435978 , 16.724411 , 31.119606 , 22.12412  , 18.30494  ,\n",
       "       25.300812 , 34.556026 , 30.827015 , 17.685106 , 25.074043 ,\n",
       "       17.655554 , 13.206769 , 23.250887 , 28.663872 , 14.950134 ,\n",
       "       20.825453 , 28.34049  , 11.415029 , 21.758612 , 22.795849 ,\n",
       "        5.5778275, 20.663168 , 47.21811  , 10.194401 , 13.86906  ,\n",
       "       21.599579 , 14.073476 , 19.928835 ,  9.954967 , 20.386696 ,\n",
       "       27.242737 , 16.366001 , 23.869417 , 25.071386 , 17.988348 ,\n",
       "       22.507599 ,  7.786377 , 19.381582 , 19.087276 , 22.218935 ,\n",
       "       20.074924 , 35.847572 ,  9.881703 , 12.005276 , 12.298754 ,\n",
       "       20.575222 , 23.492876 ], dtype=float32)"
      ]
     },
     "execution_count": 10,
     "metadata": {},
     "output_type": "execute_result"
    }
   ],
   "source": [
    "y_pred_xgb"
   ]
  },
  {
   "cell_type": "markdown",
   "id": "bf537487",
   "metadata": {},
   "source": [
    "## Gradient Boosting"
   ]
  },
  {
   "cell_type": "code",
   "execution_count": 11,
   "id": "2f8501be",
   "metadata": {},
   "outputs": [
    {
     "name": "stdout",
     "output_type": "stream",
     "text": [
      "Fitting 3 folds for each of 10 candidates, totalling 30 fits\n",
      "✅ Mejores parámetros encontrados por Gradient Boosting:\n",
      "{'n_estimators': 15, 'min_samples_split': 2, 'min_samples_leaf': 1, 'max_features': 'log2', 'max_depth': 4, 'learning_rate': 0.2}\n"
     ]
    }
   ],
   "source": [
    "from sklearn.ensemble import GradientBoostingRegressor\n",
    "from sklearn.model_selection import RandomizedSearchCV\n",
    "\n",
    "# ✅ Definimos el modelo base\n",
    "gb_reg = GradientBoostingRegressor(random_state=42)\n",
    "\n",
    "# ✅ Espacio reducido de hiperparámetros para que sea más rápido de ejecutar\n",
    "param_dist_gb = {\n",
    "    # 🔢 Número de árboles: controla la cantidad de etapas del boosting\n",
    "    'n_estimators': [5, 10, 15],  # Pequeños para acelerar el entrenamiento\n",
    "\n",
    "    # 📉 Tasa de aprendizaje: cuánto contribuye cada nuevo árbol\n",
    "    'learning_rate': [0.01, 0.1, 0.2],  # Valores estándar\n",
    "\n",
    "    # 🌳 Profundidad de los árboles: controla la complejidad del modelo\n",
    "    'max_depth': [3, 4, 5],  # Árboles moderadamente profundos\n",
    "\n",
    "    # ✂️ Número mínimo de muestras para hacer un split\n",
    "    'min_samples_split': [2, 4],  # Valores básicos\n",
    "\n",
    "    # 🍃 Número mínimo de muestras por hoja\n",
    "    'min_samples_leaf': [1, 2],  # Valores seguros para evitar overfitting\n",
    "\n",
    "    # 🔍 Subconjunto de features usado en cada split\n",
    "    'max_features': ['sqrt', 'log2', None]  # Métodos comunes en boosting\n",
    "}\n",
    "\n",
    "# ✅ Búsqueda aleatoria (menos intensiva que GridSearch)\n",
    "random_search_gb = RandomizedSearchCV(\n",
    "    estimator=gb_reg,\n",
    "    param_distributions=param_dist_gb,\n",
    "    n_iter=10,                          # Solo 10 combinaciones a probar\n",
    "    scoring='neg_mean_squared_error',  # Métrica usada para regresión\n",
    "    cv=3,                               # 3-fold cross-validation para acelerar\n",
    "    verbose=1,                          # Muestra progreso\n",
    "    random_state=42,\n",
    "    n_jobs=-1                           # Usa todos los núcleos disponibles\n",
    ")\n",
    "\n",
    "# ✅ Entrenamiento del modelo\n",
    "random_search_gb.fit(X_train, y_train)\n",
    "\n",
    "# ✅ Mejor modelo encontrado\n",
    "best_gb_model = random_search_gb.best_estimator_\n",
    "\n",
    "# ✅ Predicción con el modelo optimizado\n",
    "y_pred_gb = best_gb_model.predict(X_test)\n",
    "\n",
    "# ✅ Mostrar hiperparámetros óptimos\n",
    "print(\"✅ Mejores parámetros encontrados por Gradient Boosting:\")\n",
    "print(random_search_gb.best_params_)\n"
   ]
  },
  {
   "cell_type": "code",
   "execution_count": 12,
   "id": "78aa9602",
   "metadata": {},
   "outputs": [
    {
     "data": {
      "text/plain": [
       "array([23.17068962, 29.19627398, 16.39614582, 23.27463328, 16.7587947 ,\n",
       "       21.6938187 , 19.79248515, 15.19639121, 20.5814995 , 21.40232359,\n",
       "       20.30222996, 19.35954535,  9.85606068, 21.74571921, 21.18999739,\n",
       "       25.31670922, 19.05473672, 12.03417016, 44.75946249, 14.74867598,\n",
       "       24.15754667, 25.57556845, 15.25433247, 20.89460185, 13.65487845,\n",
       "       17.6235109 , 22.96764295, 14.61360914, 20.19391519, 21.26403651,\n",
       "       21.18914872, 23.43877294, 24.67392074, 17.76211386, 16.33282851,\n",
       "       15.73618136, 33.99941646, 19.7931461 , 23.03030402, 23.27463328,\n",
       "       18.33045223, 30.36505524, 44.97714729, 21.29987908, 23.1857202 ,\n",
       "       13.99529728, 16.61182868, 23.27463328, 18.36217339, 27.04427144,\n",
       "       21.6335099 , 32.91925475, 17.82285186, 22.22981639, 45.98337906,\n",
       "       20.59634202, 15.17508701, 30.74416642, 23.06840634, 18.67713443,\n",
       "       24.80857248, 32.22873276, 29.03945859, 18.93409857, 26.40186229,\n",
       "       17.45238128, 13.76213918, 23.16488131, 29.05952592, 14.1076152 ,\n",
       "       21.70225102, 23.4288912 , 11.86100912, 20.71413234, 21.91165562,\n",
       "        9.65404014, 20.0031628 , 44.97714729, 12.44286038, 13.59059503,\n",
       "       22.48081771, 14.91712334, 22.97594629, 11.40775929, 21.36857321,\n",
       "       25.37809751, 18.74899472, 23.43877294, 24.15087083, 17.22328433,\n",
       "       22.6015181 , 10.51066102, 18.84915462, 21.54926328, 23.06324598,\n",
       "       18.84915462, 31.97906505, 12.86900465, 11.26244525, 13.81509869,\n",
       "       21.7442985 , 22.96764295])"
      ]
     },
     "execution_count": 12,
     "metadata": {},
     "output_type": "execute_result"
    }
   ],
   "source": [
    "y_pred_gb"
   ]
  },
  {
   "cell_type": "markdown",
   "id": "15b513f2",
   "metadata": {},
   "source": [
    "### Escalado de datos"
   ]
  },
  {
   "cell_type": "code",
   "execution_count": 13,
   "id": "778b4d5b",
   "metadata": {},
   "outputs": [],
   "source": [
    "from sklearn.preprocessing import StandardScaler\n",
    "\n",
    "scaler = StandardScaler()\n",
    "X_train_scaled = scaler.fit_transform(X_train)\n",
    "X_test_scaled = scaler.transform(X_test)"
   ]
  },
  {
   "cell_type": "markdown",
   "id": "7c9ac544",
   "metadata": {},
   "source": [
    "### Perceptrón Multicapa"
   ]
  },
  {
   "cell_type": "code",
   "execution_count": 14,
   "id": "bb98e1d6",
   "metadata": {},
   "outputs": [
    {
     "name": "stdout",
     "output_type": "stream",
     "text": [
      "Fitting 2 folds for each of 4 candidates, totalling 8 fits\n"
     ]
    }
   ],
   "source": [
    "from sklearn.neural_network import MLPRegressor\n",
    "# Modelo base\n",
    "mlp_reg = MLPRegressor(max_iter=300, random_state=42)\n",
    "\n",
    "# Hiperparámetros reducidos\n",
    "params_mlp = {\n",
    "    'hidden_layer_sizes': [(50,), (30, 30)],\n",
    "    'activation': ['relu'],\n",
    "    'solver': ['adam'],\n",
    "    'alpha': [0.0001, 0.001],\n",
    "    'learning_rate_init': [0.001, 0.01],\n",
    "}\n",
    "\n",
    "# RandomizedSearchCV\n",
    "random_mlp = RandomizedSearchCV(\n",
    "    mlp_reg, params_mlp, n_iter=4, cv=2,\n",
    "    scoring='neg_mean_squared_error',\n",
    "    n_jobs=-1, verbose=1, random_state=42\n",
    ")\n",
    "\n",
    "random_mlp.fit(X_train_scaled, y_train)\n",
    "best_mlp = random_mlp.best_estimator_\n",
    "y_pred_mlp = best_mlp.predict(X_test_scaled)"
   ]
  },
  {
   "cell_type": "code",
   "execution_count": 15,
   "id": "4c118a50-177a-4116-aefd-75ba641b8dcf",
   "metadata": {},
   "outputs": [
    {
     "data": {
      "text/plain": [
       "array([28.66484674, 35.30757542, 18.01124772, 25.11827806, 17.49051415,\n",
       "       19.90398447, 17.5921045 , 13.67432427, 24.0782709 , 18.00035356,\n",
       "       22.3044665 , 17.51511197,  6.47271458, 18.42924972, 18.3812998 ,\n",
       "       23.27480197, 21.29799258, 12.33975521, 46.47534287, 16.09167985,\n",
       "       25.28050666, 26.55188603, 15.57575276, 23.96228785, 18.20976809,\n",
       "       19.38972213, 20.5223929 , 11.53068739, 20.65768123, 16.30983476,\n",
       "       23.69016764, 23.65485511, 20.7295924 , 25.13422241, 15.59884441,\n",
       "       17.09408513, 33.39725205, 21.00627657, 21.33320447, 23.99913164,\n",
       "       15.30361078, 29.01060345, 48.93953319, 18.13405891, 27.45066295,\n",
       "       19.0593178 , 15.91329088, 25.66902873, 19.70226357, 28.87148426,\n",
       "       18.30535248, 35.49378853, 16.76384752, 25.39766911, 44.60813242,\n",
       "       22.36329418, 18.5410794 , 31.90948896, 25.35542352, 14.38079325,\n",
       "       22.25659918, 34.10510239, 31.09744837, 16.00755067, 21.98626507,\n",
       "       18.3127857 , 18.02403138, 23.88424753, 29.34113789, 13.68898097,\n",
       "       22.00445947, 27.06949874, 10.77508713, 21.12226905, 21.18555037,\n",
       "        6.51030198, 19.99792292, 46.4478282 , 14.22777074, 15.04589466,\n",
       "       20.65877649, 13.67696454, 20.46421996, 13.7800564 , 22.01048963,\n",
       "       29.7247609 , 15.39741203, 24.07773073, 24.6160969 , 17.2716489 ,\n",
       "       24.09798089,  8.92579449, 17.10363349, 17.892262  , 34.05309766,\n",
       "       18.02008619, 27.09457631, 11.27844691, 11.81484394, 12.2328475 ,\n",
       "       23.47225421, 21.9561312 ])"
      ]
     },
     "execution_count": 15,
     "metadata": {},
     "output_type": "execute_result"
    }
   ],
   "source": [
    "y_pred_mlp"
   ]
  },
  {
   "cell_type": "markdown",
   "id": "c0a8778b",
   "metadata": {},
   "source": [
    "### KNN"
   ]
  },
  {
   "cell_type": "code",
   "execution_count": 16,
   "id": "9375268a",
   "metadata": {},
   "outputs": [
    {
     "name": "stdout",
     "output_type": "stream",
     "text": [
      "Fitting 2 folds for each of 4 candidates, totalling 8 fits\n"
     ]
    }
   ],
   "source": [
    "from sklearn.neighbors import KNeighborsRegressor\n",
    "\n",
    "# Modelo base\n",
    "knn_reg = KNeighborsRegressor()\n",
    "\n",
    "# Hiperparámetros reducidos\n",
    "params_knn = {\n",
    "    'n_neighbors': [1, 2],\n",
    "    'weights': ['uniform', 'distance'],\n",
    "    'algorithm': ['auto', 'ball_tree'],\n",
    "    'leaf_size': [5],\n",
    "    'p': [1, 2]\n",
    "}\n",
    "\n",
    "# RandomizedSearchCV\n",
    "random_knn = RandomizedSearchCV(\n",
    "    knn_reg, params_knn, n_iter=4, cv=2,\n",
    "    scoring='neg_mean_squared_error',\n",
    "    n_jobs=-1, verbose=1, random_state=42\n",
    ")\n",
    "\n",
    "random_knn.fit(X_train_scaled, y_train)\n",
    "best_knn = random_knn.best_estimator_\n",
    "y_pred_knn = best_knn.predict(X_test_scaled)\n"
   ]
  },
  {
   "cell_type": "code",
   "execution_count": 17,
   "id": "1810bf31",
   "metadata": {},
   "outputs": [
    {
     "data": {
      "text/plain": [
       "array([27.03802412, 33.12738961, 17.2972845 , 22.51492387, 16.59815907,\n",
       "       22.82492668, 18.36552362, 15.49519596, 23.0992809 , 19.62816074,\n",
       "       23.14026031, 21.43444574,  8.64770173, 24.26520107, 20.19994707,\n",
       "       22.36522433, 20.74039606, 10.01300273, 43.07544524, 14.58217939,\n",
       "       22.78702855, 29.44166175, 14.00262489, 21.20858101, 15.75541905,\n",
       "       13.16214632, 24.49919273, 13.6108478 , 20.8909688 , 19.25578472,\n",
       "       24.34668469, 22.58420864, 15.53358359, 21.28763558, 14.62524609,\n",
       "       17.31827123, 25.44859283, 18.83551731, 21.90250719, 22.50841675,\n",
       "       18.78727241, 30.94099781, 43.22282116, 21.22725867, 21.88152601,\n",
       "        9.64329815, 13.99934868, 22.68490229, 20.85622064, 29.71595856,\n",
       "       24.51216419, 38.04378258, 15.054851  , 25.68720163, 46.78725188,\n",
       "       21.65884293, 13.7026538 , 33.55898924, 24.47396885, 18.55956018,\n",
       "       21.43935971, 33.89267765, 38.56566627, 20.50512626, 20.80145532,\n",
       "       19.84255674, 12.29914585, 25.50984114, 31.88784434, 16.16108971,\n",
       "       19.87367577, 24.40379248, 13.08491483, 18.27832129, 24.56655916,\n",
       "        7.22250487, 19.7454306 , 43.23369618,  8.62625741, 11.54203996,\n",
       "       22.41761957, 12.863765  , 21.12342798, 11.80013292, 20.82686986,\n",
       "       26.22880867, 15.03147728, 23.0533111 , 22.02287244, 18.38759433,\n",
       "       23.43811104, 12.55749757, 18.81490075, 17.51951101, 35.14378942,\n",
       "       18.81184622, 24.67269361,  7.76900866, 11.75744171, 20.5871365 ,\n",
       "       21.72495523, 24.50892816])"
      ]
     },
     "execution_count": 17,
     "metadata": {},
     "output_type": "execute_result"
    }
   ],
   "source": [
    "y_pred_knn"
   ]
  },
  {
   "cell_type": "markdown",
   "id": "d543ae4e",
   "metadata": {},
   "source": [
    "### Support Vector Machine"
   ]
  },
  {
   "cell_type": "code",
   "execution_count": 18,
   "id": "a5365d30",
   "metadata": {},
   "outputs": [
    {
     "name": "stdout",
     "output_type": "stream",
     "text": [
      "Fitting 3 folds for each of 4 candidates, totalling 12 fits\n"
     ]
    }
   ],
   "source": [
    "from sklearn.svm import SVR\n",
    "\n",
    "# Modelo base\n",
    "svr_reg = SVR()\n",
    "\n",
    "# Hiperparámetros reducidos\n",
    "params_svr = {\n",
    "    'kernel': ['linear', 'rbf'],\n",
    "    'gamma': ['scale'],\n",
    "    'C': [0.1, 1],\n",
    "    'epsilon': [0.01, 0.1]\n",
    "}\n",
    "\n",
    "# RandomizedSearchCV\n",
    "random_svr = RandomizedSearchCV(\n",
    "    svr_reg, params_svr, n_iter=4, cv=3,\n",
    "    scoring='neg_mean_squared_error',\n",
    "    n_jobs=-1, verbose=1, random_state=42\n",
    ")\n",
    "\n",
    "random_svr.fit(X_train_scaled, y_train)\n",
    "best_svr = random_svr.best_estimator_\n",
    "y_pred_svr = best_svr.predict(X_test_scaled)\n"
   ]
  },
  {
   "cell_type": "code",
   "execution_count": 19,
   "id": "3b2d6819",
   "metadata": {},
   "outputs": [
    {
     "data": {
      "text/plain": [
       "array([26.04791611, 31.73125564, 16.58271922, 24.13727337, 17.56116695,\n",
       "       22.11860794, 18.42134121, 16.48843825, 19.35074524, 20.16332279,\n",
       "       22.30700546, 19.8178044 , -3.36253033, 21.84575162, 18.45286872,\n",
       "       23.67431805, 19.0169055 ,  6.35350504, 38.05210346, 16.46728767,\n",
       "       25.93546358, 27.83311346, 13.52491658, 23.73054016, 15.71197892,\n",
       "       12.98879664, 21.85853116, 13.9095376 , 20.66325172, 19.00643842,\n",
       "       20.18243947, 24.14940775, 23.64404129, 14.39528941, 15.03376085,\n",
       "       17.43063545, 29.81955267, 19.99277145, 22.40343283, 24.37750999,\n",
       "       15.08990379, 28.56743024, 39.42257939, 18.42037119, 25.61268191,\n",
       "       14.86696118, 14.86395939, 25.55328983, 18.03268828, 28.40902911,\n",
       "       21.34265361, 31.77629743, 17.46230119, 24.99767826, 36.15768169,\n",
       "       20.42042357, 17.2805942 , 30.03400099, 24.4991328 , 14.93031784,\n",
       "       23.70303962, 30.43813118, 28.63849323, 16.13870258, 23.0429556 ,\n",
       "       15.79272932, 18.69826966, 24.92824263, 28.76394328, 10.54455187,\n",
       "       20.88323114, 23.47929898, 11.10060383, 18.38822234, 22.82203446,\n",
       "        7.83167585, 20.3836434 , 38.24612914, 17.82567085, 11.6115394 ,\n",
       "       21.14705574, 11.87293303, 22.486688  ,  8.93821584, 21.43981158,\n",
       "       28.126452  , 18.04761883, 24.58048331, 26.30052964, 20.20838903,\n",
       "       24.10936064,  5.84758393, 19.85792663, 17.71600917,  6.57342774,\n",
       "       20.24811363, 19.8245204 , -0.04420498, 12.80487083, 14.23915643,\n",
       "       22.06348697, 23.59180305])"
      ]
     },
     "execution_count": 19,
     "metadata": {},
     "output_type": "execute_result"
    }
   ],
   "source": [
    "y_pred_svr"
   ]
  },
  {
   "cell_type": "markdown",
   "id": "489a6849",
   "metadata": {},
   "source": [
    "### ElasticNet"
   ]
  },
  {
   "cell_type": "code",
   "execution_count": 20,
   "id": "8d2f28e4",
   "metadata": {},
   "outputs": [
    {
     "name": "stdout",
     "output_type": "stream",
     "text": [
      "Fitting 3 folds for each of 4 candidates, totalling 12 fits\n"
     ]
    }
   ],
   "source": [
    "from sklearn.linear_model import ElasticNet\n",
    "\n",
    "# Modelo base\n",
    "elastic_net = ElasticNet()\n",
    "\n",
    "# Hiperparámetros reducidos\n",
    "params_en = {\n",
    "    'alpha': [0.1, 1, 10],\n",
    "    'l1_ratio': [0.1, 0.5],\n",
    "    'max_iter': [100],\n",
    "    'tol': [0.0001]\n",
    "}\n",
    "\n",
    "# RandomizedSearchCV\n",
    "random_en = RandomizedSearchCV(\n",
    "    elastic_net, params_en, n_iter=4, cv=3,\n",
    "    scoring='neg_mean_squared_error',\n",
    "    n_jobs=-1, verbose=1, random_state=42\n",
    ")\n",
    "\n",
    "random_en.fit(X_train_scaled, y_train)\n",
    "best_en = random_en.best_estimator_\n",
    "y_pred_en = best_en.predict(X_test_scaled)\n"
   ]
  },
  {
   "cell_type": "code",
   "execution_count": 21,
   "id": "29622c95",
   "metadata": {},
   "outputs": [
    {
     "data": {
      "text/plain": [
       "array([28.37991722, 34.70024967, 16.93960727, 24.82692633, 18.65260514,\n",
       "       23.41423543, 18.14424809, 15.10701609, 22.06375288, 20.92818914,\n",
       "       24.30936018, 19.57543648, -4.84134409, 22.25941104, 19.45561844,\n",
       "       25.46846334, 19.380368  ,  5.77726936, 39.09009284, 17.5848564 ,\n",
       "       26.41626705, 28.76825281, 12.41650341, 24.36203059, 17.60367911,\n",
       "       15.0972923 , 22.86780308, 15.10611775, 22.43912004, 19.59935352,\n",
       "       21.86825454, 25.24426277, 25.56546338, 17.43003033, 16.16168499,\n",
       "       18.02179774, 31.36610292, 20.27437252, 23.77560468, 24.52045459,\n",
       "       14.46782846, 30.51356293, 40.49795736, 18.11550156, 27.13416876,\n",
       "       16.5976877 , 14.83369059, 25.78086469, 19.65320971, 30.26419844,\n",
       "       21.93826718, 33.28156802, 16.91311382, 26.52566574, 38.37531879,\n",
       "       22.11065949, 18.71635784, 31.07798649, 25.08888561, 13.95461429,\n",
       "       23.23588407, 29.98126867, 30.4578272 , 16.33522267, 22.56116986,\n",
       "       16.83248984, 20.15571059, 25.68184324, 29.45840475, 11.92475823,\n",
       "       20.42326709, 26.54784123, 11.34500447, 17.33122976, 23.80676372,\n",
       "        6.80198392, 21.83552987, 39.24581076, 18.50794896, 11.10133941,\n",
       "       21.51820658, 12.4635074 , 21.53552317,  9.19220231, 23.04419875,\n",
       "       31.34727001, 19.22211514, 25.55403442, 27.53371558, 20.77505941,\n",
       "       25.23396191,  6.05722915, 20.83943994, 17.13931958, 11.45770659,\n",
       "       21.46248071, 23.59290757, -0.20986712, 14.20591781, 15.85944395,\n",
       "       22.18870464, 24.64888283])"
      ]
     },
     "execution_count": 21,
     "metadata": {},
     "output_type": "execute_result"
    }
   ],
   "source": [
    "y_pred_en"
   ]
  },
  {
   "cell_type": "markdown",
   "id": "1512959a",
   "metadata": {},
   "source": [
    "### Lasso y Lars"
   ]
  },
  {
   "cell_type": "code",
   "execution_count": 22,
   "id": "f51b4fab",
   "metadata": {},
   "outputs": [
    {
     "name": "stdout",
     "output_type": "stream",
     "text": [
      "Fitting 3 folds for each of 4 candidates, totalling 12 fits\n"
     ]
    }
   ],
   "source": [
    "from sklearn.linear_model import LassoLars\n",
    "\n",
    "# Modelo base\n",
    "lasso_lars = LassoLars()\n",
    "\n",
    "# Hiperparámetros reducidos\n",
    "params_ll = {\n",
    "    'alpha': [0.01, 1],\n",
    "    'max_iter': [10, 50],\n",
    "    'eps': [1e-4, 1e-8]\n",
    "}\n",
    "\n",
    "# RandomizedSearchCV\n",
    "random_ll = RandomizedSearchCV(\n",
    "    lasso_lars, params_ll, n_iter=4, cv=3,\n",
    "    scoring='neg_mean_squared_error',\n",
    "    n_jobs=-1, verbose=1, random_state=42\n",
    ")\n",
    "\n",
    "random_ll.fit(X_train_scaled, y_train)\n",
    "best_ll = random_ll.best_estimator_\n",
    "y_pred_ll = best_ll.predict(X_test_scaled)\n"
   ]
  },
  {
   "cell_type": "code",
   "execution_count": 23,
   "id": "e4204c06",
   "metadata": {},
   "outputs": [
    {
     "data": {
      "text/plain": [
       "array([29.00627172, 35.87992353, 15.04955899, 24.97360848, 18.75016713,\n",
       "       23.27744603, 17.70129358, 14.36518914, 22.9134848 , 20.70062389,\n",
       "       24.80658834, 18.71520745, -5.97940762, 21.79393739, 19.26706046,\n",
       "       26.11031359, 20.36649495,  5.77178962, 40.36432071, 17.6062312 ,\n",
       "       27.13357465, 29.91584776, 11.44794515, 24.17918972, 17.84159147,\n",
       "       15.75883921, 22.78095027, 14.63054977, 22.41688072, 19.2680872 ,\n",
       "       22.43997148, 25.22723356, 25.91824795, 17.69292722, 16.69230081,\n",
       "       17.04621906, 31.2581581 , 20.13117946, 23.73281888, 24.57695997,\n",
       "       14.01160262, 32.10193889, 42.42547192, 17.40453156, 27.32753476,\n",
       "       16.95570709, 14.16101545, 25.84842349, 20.21447916, 30.06643845,\n",
       "       21.34775865, 34.23564085, 16.14105879, 26.31023553, 39.46868514,\n",
       "       22.50431565, 18.83424042, 32.52331542, 25.08344256, 12.95885924,\n",
       "       22.68918285, 30.36909626, 31.43546039, 15.94868071, 20.46801265,\n",
       "       16.69492957, 20.48984676, 25.93467951, 30.48369241, 11.62719849,\n",
       "       20.4714338 , 27.38433073, 11.04380805, 15.80746137, 23.79046826,\n",
       "        6.24553288, 21.68624979, 41.16631357, 18.73673494,  9.11118481,\n",
       "       20.90575648, 13.16322775, 20.78098273,  9.33336587, 23.22856265,\n",
       "       31.88291962, 19.10785419, 25.51929471, 28.81442584, 20.17786956,\n",
       "       25.5924791 ,  5.73066765, 20.14265051, 15.19066601, 12.43425564,\n",
       "       20.775861  , 24.65538399, -0.18547448, 13.74586251, 16.15885799,\n",
       "       22.27643155, 24.49053406])"
      ]
     },
     "execution_count": 23,
     "metadata": {},
     "output_type": "execute_result"
    }
   ],
   "source": [
    "y_pred_ll"
   ]
  },
  {
   "cell_type": "markdown",
   "id": "70d194e6",
   "metadata": {},
   "source": [
    "### Comparacion de Metricas"
   ]
  },
  {
   "cell_type": "code",
   "execution_count": 24,
   "id": "8ed2ac81",
   "metadata": {},
   "outputs": [
    {
     "name": "stdout",
     "output_type": "stream",
     "text": [
      "Modelo                MSE     R^2\n",
      "----------------  -------  ------\n",
      "DecisionTree      16.3945  0.7764\n",
      "RandomForest       9.2873  0.8734\n",
      "XGBoost            7.5     0.8977\n",
      "GradientBoosting  10.0601  0.8628\n",
      "MLPRegressor      13.0898  0.8215\n",
      "SVR               28.2748  0.6144\n",
      "KNeighbors        16.2133  0.7789\n",
      "ElasticNet        25.2036  0.6563\n",
      "LassoLars         24.3326  0.6682\n"
     ]
    }
   ],
   "source": [
    "from sklearn.metrics import mean_squared_error, r2_score\n",
    "from tabulate import tabulate\n",
    "\n",
    "# Diccionario de modelos optimizados (sin LightGBM)\n",
    "models = {\n",
    "    'DecisionTree': best_dt_model,\n",
    "    'RandomForest': best_rf_model,\n",
    "    'XGBoost': best_xgb_model,\n",
    "    'GradientBoosting': best_gb_model,\n",
    "    'MLPRegressor': best_mlp,\n",
    "    'SVR': best_svr,\n",
    "    'KNeighbors': best_knn,\n",
    "    'ElasticNet': best_en,\n",
    "    'LassoLars': best_ll\n",
    "}\n",
    "\n",
    "# Modelos que necesitan escalado\n",
    "scaled_models = ['MLPRegressor', 'SVR', 'KNeighbors', 'ElasticNet', 'LassoLars']\n",
    "\n",
    "# Evaluar cada modelo con MSE y R²\n",
    "results = []\n",
    "for name, model in models.items():\n",
    "    if name in scaled_models:\n",
    "        y_pred = model.predict(X_test_scaled)\n",
    "    else:\n",
    "        y_pred = model.predict(X_test)\n",
    "    mse = mean_squared_error(y_test, y_pred)\n",
    "    r2 = r2_score(y_test, y_pred)\n",
    "    results.append([name, round(mse, 4), round(r2, 4)])\n",
    "\n",
    "# Mostrar tabla con resultados\n",
    "print(tabulate(results, headers=['Modelo', 'MSE', 'R^2']))\n",
    "\n"
   ]
  },
  {
   "cell_type": "code",
   "execution_count": null,
   "id": "722e2460",
   "metadata": {},
   "outputs": [],
   "source": []
  },
  {
   "cell_type": "code",
   "execution_count": null,
   "id": "4883fd58-86c9-462d-a988-1f4fe7743006",
   "metadata": {},
   "outputs": [],
   "source": []
  },
  {
   "cell_type": "code",
   "execution_count": null,
   "id": "debfb2f0-323f-46d0-88fe-7f4d7ad7ea96",
   "metadata": {},
   "outputs": [],
   "source": []
  },
  {
   "cell_type": "code",
   "execution_count": null,
   "id": "a56fae66-acc5-4369-b1ec-0fb326ae6586",
   "metadata": {},
   "outputs": [],
   "source": []
  }
 ],
 "metadata": {
  "kernelspec": {
   "display_name": "Python 3 (ipykernel)",
   "language": "python",
   "name": "python3"
  },
  "language_info": {
   "codemirror_mode": {
    "name": "ipython",
    "version": 3
   },
   "file_extension": ".py",
   "mimetype": "text/x-python",
   "name": "python",
   "nbconvert_exporter": "python",
   "pygments_lexer": "ipython3",
   "version": "3.11.13"
  }
 },
 "nbformat": 4,
 "nbformat_minor": 5
}
